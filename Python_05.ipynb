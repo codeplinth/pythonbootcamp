{
 "cells": [
  {
   "cell_type": "markdown",
   "metadata": {},
   "source": [
    "## Creating & Calling functions"
   ]
  },
  {
   "cell_type": "code",
   "execution_count": 4,
   "metadata": {},
   "outputs": [
    {
     "name": "stdout",
     "output_type": "stream",
     "text": [
      "Name : John Smith\n",
      "Age : 20\n",
      "Name : John Smith\n",
      "Age : 20\n"
     ]
    }
   ],
   "source": [
    "#first function\n",
    "#function definition\n",
    "def printInfo():\n",
    "    print(\"Name : John Smith\")\n",
    "    print(\"Age : 20\")\n",
    "#function call\n",
    "printInfo()#calling the function\n",
    "printInfo()#calling the function again"
   ]
  },
  {
   "cell_type": "code",
   "execution_count": 5,
   "metadata": {},
   "outputs": [
    {
     "name": "stdout",
     "output_type": "stream",
     "text": [
      "15\n"
     ]
    }
   ],
   "source": [
    "#performing a calculation in a function\n",
    "def calc():\n",
    "    x,y=5,10\n",
    "    print(x+y)\n",
    "calc()"
   ]
  },
  {
   "cell_type": "markdown",
   "metadata": {},
   "source": [
    "## Parameters"
   ]
  },
  {
   "cell_type": "code",
   "execution_count": 6,
   "metadata": {},
   "outputs": [
    {
     "name": "stdout",
     "output_type": "stream",
     "text": [
      "Your name is : Harsh Tripathi\n",
      "Your name is : voodoo\n"
     ]
    }
   ],
   "source": [
    "#passing a single parameter into a function\n",
    "def printName(full_name):\n",
    "    print(\"Your name is : {}\".format(full_name))\n",
    "printName(\"Harsh Tripathi\")\n",
    "printName(\"voodoo\")\n",
    "    "
   ]
  },
  {
   "cell_type": "code",
   "execution_count": 8,
   "metadata": {},
   "outputs": [
    {
     "name": "stdout",
     "output_type": "stream",
     "text": [
      "3 + 5 = 8\n",
      "3.2 + 8.1 = 11.3\n"
     ]
    }
   ],
   "source": [
    "#passing multiple parameters to a function\n",
    "def addNums(num1,num2):\n",
    "    print(\"{} + {} = {}\".format(num1,num2,num1+num2))\n",
    "addNums(3,5)\n",
    "addNums(3.2,8.1)"
   ]
  },
  {
   "cell_type": "code",
   "execution_count": 11,
   "metadata": {},
   "outputs": [
    {
     "name": "stdout",
     "output_type": "stream",
     "text": [
      "[4, 16, 25, 100]\n",
      "[1, 9, 36]\n"
     ]
    }
   ],
   "source": [
    "#passing a list to a function\n",
    "numbers1=[2,4,5,10]\n",
    "numbers2=[1,3,6]\n",
    "def squares(nums):\n",
    "    sq=[]\n",
    "    for i in nums:\n",
    "        sq.append(i**2)\n",
    "    print(sq)    \n",
    "squares(numbers1)\n",
    "squares(numbers2)"
   ]
  },
  {
   "cell_type": "markdown",
   "metadata": {},
   "source": [
    "## Default Parameters - MUST always go after non default parameters"
   ]
  },
  {
   "cell_type": "code",
   "execution_count": 14,
   "metadata": {},
   "outputs": [
    {
     "name": "stdout",
     "output_type": "stream",
     "text": [
      "Area : 314.0\n",
      "Area : 314.1\n"
     ]
    }
   ],
   "source": [
    "#setting default parameter values\n",
    "def calcArea(r,pi=3.14):\n",
    "    area = pi * r * r\n",
    "    print(\"Area : {}\".format(area))\n",
    "calcArea(10)\n",
    "calcArea(10,3.141)"
   ]
  },
  {
   "cell_type": "markdown",
   "metadata": {},
   "source": [
    "## Making Parameters Optional"
   ]
  },
  {
   "cell_type": "code",
   "execution_count": 16,
   "metadata": {},
   "outputs": [
    {
     "name": "stdout",
     "output_type": "stream",
     "text": [
      "Harsh Tripathi\n",
      "Harsh K Tripathi\n"
     ]
    }
   ],
   "source": [
    "#setting default value paramter\n",
    "def printName(first,last,middle=\"\"):\n",
    "    if middle:\n",
    "        print(\"{} {} {}\".format(first,middle,last))\n",
    "    else:\n",
    "        print(\"{} {}\".format(first,last))\n",
    "printName(\"Harsh\",\"Tripathi\")\n",
    "printName(\"Harsh\",\"Tripathi\",\"K\")"
   ]
  },
  {
   "cell_type": "markdown",
   "metadata": {},
   "source": [
    "## Named Parameter Assignment"
   ]
  },
  {
   "cell_type": "code",
   "execution_count": 18,
   "metadata": {},
   "outputs": [
    {
     "name": "stdout",
     "output_type": "stream",
     "text": [
      "2.2\n",
      "5\n"
     ]
    }
   ],
   "source": [
    "#explicitly assigning values to parameters by referencing the name\n",
    "def printNums(num1,num2):\n",
    "    print(num2)\n",
    "    print(num1)\n",
    "printNums(5,num2=2.2)"
   ]
  },
  {
   "cell_type": "markdown",
   "metadata": {},
   "source": [
    "## Variable number of Arguments"
   ]
  },
  {
   "cell_type": "code",
   "execution_count": 25,
   "metadata": {},
   "outputs": [
    {
     "name": "stdout",
     "output_type": "stream",
     "text": [
      "<class 'tuple'>\n",
      "5\n",
      "True\n",
      "Jess\n"
     ]
    }
   ],
   "source": [
    "# use *args parameter to take in a tuple of arbitrary values\n",
    "def outputData(name,*args):\n",
    "    print(type(args))\n",
    "    for arg in args:\n",
    "        print(arg)\n",
    "outputData(\"John Smith\",5,True,\"Jess\")"
   ]
  },
  {
   "cell_type": "code",
   "execution_count": 28,
   "metadata": {},
   "outputs": [
    {
     "name": "stdout",
     "output_type": "stream",
     "text": [
      "<class 'dict'>\n",
      "John Smith\n",
      "5\n"
     ]
    }
   ],
   "source": [
    "# use **kwargs parameter to take in a dictionary of arbitrary values\n",
    "def outputData(**kwargs):\n",
    "    print(type(kwargs))\n",
    "    print(kwargs[\"name\"])\n",
    "    print(kwargs[\"num\"])\n",
    "outputData(name=\"John Smith\",num=5,b=True)"
   ]
  },
  {
   "cell_type": "code",
   "execution_count": 36,
   "metadata": {},
   "outputs": [
    {
     "name": "stdout",
     "output_type": "stream",
     "text": [
      "Enter inputtest\n",
      "False\n"
     ]
    }
   ],
   "source": [
    "#Exercise\n",
    "def checkIsUpper(inp):\n",
    "    if inp.istitle():\n",
    "        print(\"True\")\n",
    "    else:\n",
    "        print(\"False\")\n",
    "inp=input(\"Enter input\")\n",
    "checkIsUpper(inp)"
   ]
  },
  {
   "cell_type": "code",
   "execution_count": null,
   "metadata": {},
   "outputs": [],
   "source": [
    "def noName(first_name=\"\",last_name=\"\"):\n",
    "    if first_name==\"\" and last_name==\"\":\n",
    "        print(\"No name passed in\")\n",
    "    else:\n",
    "        print(first_name+\" \"+last_name)\n",
    "noName()\n",
    "noName(\"Harsh\")"
   ]
  },
  {
   "cell_type": "markdown",
   "metadata": {},
   "source": [
    "## Return "
   ]
  },
  {
   "cell_type": "code",
   "execution_count": 42,
   "metadata": {},
   "outputs": [
    {
     "name": "stdout",
     "output_type": "stream",
     "text": [
      "10.0\n",
      "40\n"
     ]
    }
   ],
   "source": [
    "#using return keyword to return the sum of two numbers\n",
    "def addNums(num1,num2):\n",
    "    return num1+num2\n",
    "num=addNums(5.5,4.5)\n",
    "print(num)\n",
    "print(addNums(10,30))"
   ]
  },
  {
   "cell_type": "code",
   "execution_count": 43,
   "metadata": {},
   "outputs": [
    {
     "name": "stdout",
     "output_type": "stream",
     "text": [
      "[5, 10]\n"
     ]
    }
   ],
   "source": [
    "#using collections to return multiple values\n",
    "def returnMultiple():\n",
    "    a=5\n",
    "    b=10\n",
    "    return [a,b]\n",
    "l=returnMultiple()\n",
    "print(l)"
   ]
  },
  {
   "cell_type": "markdown",
   "metadata": {},
   "source": [
    "## Using Ternary operator"
   ]
  },
  {
   "cell_type": "code",
   "execution_count": 44,
   "metadata": {},
   "outputs": [
    {
     "name": "stdout",
     "output_type": "stream",
     "text": [
      "True\n"
     ]
    }
   ],
   "source": [
    "#shorthand syntax using ternary operator\n",
    "def searchList(aList,el):\n",
    "    return True if el in aList else False\n",
    "result = searchList([\"one\",2,\"three\"],2)\n",
    "print(result)"
   ]
  },
  {
   "cell_type": "code",
   "execution_count": 45,
   "metadata": {},
   "outputs": [
    {
     "name": "stdout",
     "output_type": "stream",
     "text": [
      "Harsh Tripathi\n"
     ]
    }
   ],
   "source": [
    "#Exercise\n",
    "def fullName(first_name,last_name):\n",
    "    return first_name+\" \"+last_name\n",
    "full_name=fullName(\"Harsh\",\"Tripathi\")\n",
    "print(full_name)"
   ]
  },
  {
   "cell_type": "code",
   "execution_count": 48,
   "metadata": {},
   "outputs": [
    {
     "name": "stdout",
     "output_type": "stream",
     "text": [
      "Enter inputtest\n",
      "test\n"
     ]
    }
   ],
   "source": [
    "def returnUserInput():\n",
    "    inp=input(\"Enter input\")\n",
    "    return inp\n",
    "val = returnUserInput()\n",
    "print(val)"
   ]
  },
  {
   "cell_type": "markdown",
   "metadata": {},
   "source": [
    "## Scope - Global,Function,Class"
   ]
  },
  {
   "cell_type": "code",
   "execution_count": 49,
   "metadata": {},
   "outputs": [
    {
     "ename": "UnboundLocalError",
     "evalue": "local variable 'number' referenced before assignment",
     "output_type": "error",
     "traceback": [
      "\u001b[1;31m---------------------------------------------------------------------------\u001b[0m",
      "\u001b[1;31mUnboundLocalError\u001b[0m                         Traceback (most recent call last)",
      "\u001b[1;32m<ipython-input-49-99de0a2cf604>\u001b[0m in \u001b[0;36m<module>\u001b[1;34m\u001b[0m\n\u001b[0;32m      3\u001b[0m \u001b[1;32mdef\u001b[0m \u001b[0mscopeTest\u001b[0m\u001b[1;33m(\u001b[0m\u001b[1;33m)\u001b[0m\u001b[1;33m:\u001b[0m\u001b[1;33m\u001b[0m\u001b[1;33m\u001b[0m\u001b[0m\n\u001b[0;32m      4\u001b[0m     \u001b[0mnumber\u001b[0m\u001b[1;33m+=\u001b[0m\u001b[1;36m1\u001b[0m\u001b[1;33m\u001b[0m\u001b[1;33m\u001b[0m\u001b[0m\n\u001b[1;32m----> 5\u001b[1;33m \u001b[0mscopeTest\u001b[0m\u001b[1;33m(\u001b[0m\u001b[1;33m)\u001b[0m\u001b[1;33m\u001b[0m\u001b[1;33m\u001b[0m\u001b[0m\n\u001b[0m",
      "\u001b[1;32m<ipython-input-49-99de0a2cf604>\u001b[0m in \u001b[0;36mscopeTest\u001b[1;34m()\u001b[0m\n\u001b[0;32m      2\u001b[0m \u001b[0mnumber\u001b[0m\u001b[1;33m=\u001b[0m\u001b[1;36m5\u001b[0m\u001b[1;33m\u001b[0m\u001b[1;33m\u001b[0m\u001b[0m\n\u001b[0;32m      3\u001b[0m \u001b[1;32mdef\u001b[0m \u001b[0mscopeTest\u001b[0m\u001b[1;33m(\u001b[0m\u001b[1;33m)\u001b[0m\u001b[1;33m:\u001b[0m\u001b[1;33m\u001b[0m\u001b[1;33m\u001b[0m\u001b[0m\n\u001b[1;32m----> 4\u001b[1;33m     \u001b[0mnumber\u001b[0m\u001b[1;33m+=\u001b[0m\u001b[1;36m1\u001b[0m\u001b[1;33m\u001b[0m\u001b[1;33m\u001b[0m\u001b[0m\n\u001b[0m\u001b[0;32m      5\u001b[0m \u001b[0mscopeTest\u001b[0m\u001b[1;33m(\u001b[0m\u001b[1;33m)\u001b[0m\u001b[1;33m\u001b[0m\u001b[1;33m\u001b[0m\u001b[0m\n",
      "\u001b[1;31mUnboundLocalError\u001b[0m: local variable 'number' referenced before assignment"
     ]
    }
   ],
   "source": [
    "#where global variables can be accessed\n",
    "number=5\n",
    "def scopeTest():\n",
    "    number+=1 #not accessible due to function level scope\n",
    "scopeTest()"
   ]
  },
  {
   "cell_type": "code",
   "execution_count": 51,
   "metadata": {},
   "outputs": [
    {
     "name": "stdout",
     "output_type": "stream",
     "text": [
      "function\n"
     ]
    }
   ],
   "source": [
    "#accessing variables defined in a function\n",
    "def scopeTest():\n",
    "    word=\"function\"\n",
    "    return word\n",
    "value=scopeTest()\n",
    "print(value)"
   ]
  },
  {
   "cell_type": "code",
   "execution_count": 58,
   "metadata": {
    "scrolled": true
   },
   "outputs": [
    {
     "name": "stdout",
     "output_type": "stream",
     "text": [
      "Value before function call : 5\n",
      "Value after function call : 5\n"
     ]
    }
   ],
   "source": [
    "num=5\n",
    "def changeNum(n):\n",
    "    n+=5\n",
    "print(\"Value before function call : {}\".format(num))\n",
    "changeNum(num) #value of the variable is passed not the variable itself\n",
    "print(\"Value after function call : {}\".format(num))"
   ]
  },
  {
   "cell_type": "markdown",
   "metadata": {},
   "source": [
    "## in-place algorthms"
   ]
  },
  {
   "cell_type": "code",
   "execution_count": 59,
   "metadata": {},
   "outputs": [
    {
     "name": "stdout",
     "output_type": "stream",
     "text": [
      "Before altering : ['baseball', 'football', 'hockey', 'basketball']\n",
      "After altering : ['soccer', 'football', 'hockey', 'basketball']\n"
     ]
    }
   ],
   "source": [
    "#changing list item values by index\n",
    "sports=[\"baseball\",\"football\",\"hockey\",\"basketball\"]\n",
    "def changeList(aList):\n",
    "    aList[0]=\"soccer\"\n",
    "print(\"Before altering : {}\".format(sports))\n",
    "changeList(sports)\n",
    "print(\"After altering : {}\".format(sports))"
   ]
  },
  {
   "cell_type": "code",
   "execution_count": 60,
   "metadata": {},
   "outputs": [
    {
     "name": "stdout",
     "output_type": "stream",
     "text": [
      "Before ['Bob', 'Rich', 'Amanda']\n",
      "After ['Bob', 'Bill', 'Amanda']\n"
     ]
    }
   ],
   "source": [
    "#Exercise\n",
    "names=[\"Bob\",\"Rich\",\"Amanda\"]\n",
    "def changeValue(aList,value,index):\n",
    "    aList[index]=value\n",
    "print(\"Before {}\".format(names))\n",
    "changeValue(names,\"Bill\",1)\n",
    "print(\"After {}\".format(names))"
   ]
  }
 ],
 "metadata": {
  "kernelspec": {
   "display_name": "Python 3",
   "language": "python",
   "name": "python3"
  },
  "language_info": {
   "codemirror_mode": {
    "name": "ipython",
    "version": 3
   },
   "file_extension": ".py",
   "mimetype": "text/x-python",
   "name": "python",
   "nbconvert_exporter": "python",
   "pygments_lexer": "ipython3",
   "version": "3.7.4"
  }
 },
 "nbformat": 4,
 "nbformat_minor": 2
}
