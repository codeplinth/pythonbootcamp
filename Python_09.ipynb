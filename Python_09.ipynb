{
 "cells": [
  {
   "cell_type": "markdown",
   "metadata": {},
   "source": [
    "## Generators & Iterators"
   ]
  },
  {
   "cell_type": "markdown",
   "metadata": {},
   "source": [
    "## Creating a basic Iterator"
   ]
  },
  {
   "cell_type": "code",
   "execution_count": 6,
   "metadata": {},
   "outputs": [
    {
     "name": "stdout",
     "output_type": "stream",
     "text": [
      "baseball\n",
      "soccer\n",
      "hockey\n",
      "football\n",
      "basketball\n"
     ]
    }
   ],
   "source": [
    "#creating a basic iterator from an iterable\n",
    "sports = [\"baseball\",\"soccer\",\"hockey\",\"football\",\"basketball\"]\n",
    "my_iter = iter(sports)\n",
    "print(next(my_iter))       #output first item\n",
    "print(next(my_iter))       #output second item\n",
    "for item in my_iter:\n",
    "    print(item)\n",
    "#print(next(my_iter))      #will produce error\n"
   ]
  },
  {
   "cell_type": "markdown",
   "metadata": {},
   "source": [
    "## Creating your own iterator"
   ]
  },
  {
   "cell_type": "code",
   "execution_count": 19,
   "metadata": {},
   "outputs": [
    {
     "name": "stdout",
     "output_type": "stream",
     "text": [
      "a\n",
      "b\n",
      "c\n",
      "d\n",
      "e\n",
      "f\n",
      "g\n",
      "h\n",
      "i\n",
      "j\n",
      "k\n",
      "l\n",
      "m\n",
      "n\n",
      "o\n",
      "p\n",
      "q\n",
      "r\n",
      "s\n",
      "t\n",
      "u\n",
      "v\n",
      "w\n",
      "x\n",
      "y\n",
      "z\n"
     ]
    }
   ],
   "source": [
    "#creating your own iterator\n",
    "class Alphabet():\n",
    "    def __iter__(self):\n",
    "            self.letters=\"abcdefghijklmnopqrstuvwxyz\"\n",
    "            self.index=0\n",
    "            return self                                 #always return self at the end of __iter__ method\n",
    "    def __next__(self):\n",
    "        if self.index <= 25:\n",
    "            char = self.letters[self.index]\n",
    "            self.index += 1\n",
    "            return char\n",
    "        else:\n",
    "            raise StopIteration\n",
    "for char in Alphabet():\n",
    "    print(char)\n",
    "        "
   ]
  },
  {
   "cell_type": "markdown",
   "metadata": {},
   "source": [
    "## Creating a Range generator"
   ]
  },
  {
   "cell_type": "code",
   "execution_count": 1,
   "metadata": {},
   "outputs": [
    {
     "name": "stdout",
     "output_type": "stream",
     "text": [
      "Generator start value0\n",
      "For loop x value 0\n",
      "Generator start value1\n",
      "For loop x value 1\n",
      "Generator start value2\n",
      "For loop x value 2\n",
      "Generator start value3\n",
      "For loop x value 3\n",
      "Generator start value4\n",
      "For loop x value 4\n"
     ]
    }
   ],
   "source": [
    "#creating your own generator using start,stop and step parameters\n",
    "def myRange(stop,start=0,step=1):\n",
    "    while start < stop:\n",
    "        print(\"Generator start value{}\".format(start))\n",
    "        yield start\n",
    "        start += step\n",
    "for x in myRange(5):\n",
    "    print(\"For loop x value {}\".format(x))\n"
   ]
  },
  {
   "cell_type": "markdown",
   "metadata": {},
   "source": [
    "## Decorators"
   ]
  },
  {
   "cell_type": "code",
   "execution_count": 8,
   "metadata": {},
   "outputs": [
    {
     "name": "stdout",
     "output_type": "stream",
     "text": [
      "===============\n",
      "John!\n",
      "===============\n"
     ]
    }
   ],
   "source": [
    "#creating and applying our own decorator using the @ symbol\n",
    "def decorator(func):\n",
    "    def wrap():\n",
    "        print(\"===============\")\n",
    "        func()\n",
    "        print(\"===============\")\n",
    "    return wrap\n",
    "@decorator\n",
    "def printName():\n",
    "    print(\"John!\")\n",
    "printName()"
   ]
  },
  {
   "cell_type": "markdown",
   "metadata": {},
   "source": [
    "## Decorators with parameters"
   ]
  },
  {
   "cell_type": "code",
   "execution_count": 5,
   "metadata": {},
   "outputs": [
    {
     "name": "stdout",
     "output_type": "stream",
     "text": [
      "Hello\n",
      "Hello\n",
      "Hello\n",
      "Hello\n"
     ]
    }
   ],
   "source": [
    "#creating a decorator that takes in parameters\n",
    "def run_time(num):\n",
    "    def wrap(func):\n",
    "        for i in range(num):\n",
    "            func()\n",
    "    return wrap\n",
    "@run_time(4)\n",
    "def sayHello():\n",
    "    print(\"Hello\")\n"
   ]
  },
  {
   "cell_type": "code",
   "execution_count": null,
   "metadata": {},
   "outputs": [],
   "source": []
  },
  {
   "cell_type": "code",
   "execution_count": null,
   "metadata": {},
   "outputs": [],
   "source": []
  },
  {
   "cell_type": "code",
   "execution_count": null,
   "metadata": {},
   "outputs": [],
   "source": []
  },
  {
   "cell_type": "code",
   "execution_count": null,
   "metadata": {},
   "outputs": [],
   "source": []
  },
  {
   "cell_type": "code",
   "execution_count": null,
   "metadata": {},
   "outputs": [],
   "source": []
  }
 ],
 "metadata": {
  "kernelspec": {
   "display_name": "Python 3",
   "language": "python",
   "name": "python3"
  },
  "language_info": {
   "codemirror_mode": {
    "name": "ipython",
    "version": 3
   },
   "file_extension": ".py",
   "mimetype": "text/x-python",
   "name": "python",
   "nbconvert_exporter": "python",
   "pygments_lexer": "ipython3",
   "version": "3.7.4"
  }
 },
 "nbformat": 4,
 "nbformat_minor": 2
}
