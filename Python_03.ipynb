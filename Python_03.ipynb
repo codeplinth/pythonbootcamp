{
 "cells": [
  {
   "cell_type": "markdown",
   "metadata": {},
   "source": [
    "## User input & Type Converting"
   ]
  },
  {
   "cell_type": "code",
   "execution_count": 3,
   "metadata": {},
   "outputs": [
    {
     "name": "stdout",
     "output_type": "stream",
     "text": [
      "What is your name ?ht\n",
      "ht\n"
     ]
    }
   ],
   "source": [
    "#accepting and outputing user input\n",
    "print(input(\"What is your name ?\"))"
   ]
  },
  {
   "cell_type": "code",
   "execution_count": 1,
   "metadata": {},
   "outputs": [
    {
     "name": "stdout",
     "output_type": "stream",
     "text": [
      "What is your name ?harsh\n",
      "Hello harsh !\n"
     ]
    }
   ],
   "source": [
    "#saving what the user inputs\n",
    "ans=input(\"What is your name ?\")\n",
    "print(\"Hello {} !\".format(ans))"
   ]
  },
  {
   "cell_type": "markdown",
   "metadata": {},
   "source": [
    "## Type Conversion"
   ]
  },
  {
   "cell_type": "code",
   "execution_count": 4,
   "metadata": {},
   "outputs": [
    {
     "name": "stdout",
     "output_type": "stream",
     "text": [
      "<class 'int'>\n"
     ]
    }
   ],
   "source": [
    "#check the datatype of a variable\n",
    "num = 5\n",
    "print(type(num))"
   ]
  },
  {
   "cell_type": "code",
   "execution_count": 5,
   "metadata": {},
   "outputs": [
    {
     "name": "stdout",
     "output_type": "stream",
     "text": [
      "<class 'str'>\n",
      "<class 'int'>\n"
     ]
    }
   ],
   "source": [
    "#converting a variable from one datatype to another\n",
    "num = \"9\"\n",
    "print(type(num))\n",
    "num=int(num)\n",
    "print(type(num))"
   ]
  },
  {
   "cell_type": "code",
   "execution_count": 6,
   "metadata": {},
   "outputs": [
    {
     "name": "stdout",
     "output_type": "stream",
     "text": [
      "Type a no: to add45\n",
      "<class 'str'>\n",
      "100 + 45 = 145\n"
     ]
    }
   ],
   "source": [
    "#working with user input to perform calculations\n",
    "ans = input(\"Type a no: to add\")\n",
    "print(type(ans))\n",
    "result = 100 + int(ans)\n",
    "print(\"100 + {} = {}\".format(ans,result))"
   ]
  },
  {
   "cell_type": "markdown",
   "metadata": {},
   "source": [
    "## Error Handling"
   ]
  },
  {
   "cell_type": "code",
   "execution_count": 7,
   "metadata": {},
   "outputs": [
    {
     "name": "stdout",
     "output_type": "stream",
     "text": [
      "Type a no: to addy\n",
      "Invalid input\n"
     ]
    }
   ],
   "source": [
    "#using try and except blocks\n",
    "#block indentations\n",
    "try:\n",
    "    ans = float(input(\"Type a no: to add\"))\n",
    "    print(\"100 + {} = {}\".format(ans,ans + 100))\n",
    "except:\n",
    "    print(\"Invalid input\")\n"
   ]
  },
  {
   "cell_type": "code",
   "execution_count": 8,
   "metadata": {},
   "outputs": [
    {
     "name": "stdout",
     "output_type": "stream",
     "text": [
      "<class 'str'>\n",
      "True\n",
      "<class 'bool'>\n"
     ]
    }
   ],
   "source": [
    "str=\"True\"\n",
    "print(type(str))\n",
    "str=bool(str)\n",
    "print(str)\n",
    "print(type(str))"
   ]
  },
  {
   "cell_type": "code",
   "execution_count": 9,
   "metadata": {},
   "outputs": [
    {
     "name": "stdout",
     "output_type": "stream",
     "text": [
      "Enter value110\n",
      "Enter value223\n",
      "10 + 23 = 33.0\n"
     ]
    }
   ],
   "source": [
    "val1 = input(\"Enter value1\")\n",
    "val2 = input(\"Enter value2\")\n",
    "print(\"{} + {} = {}\".format(val1,val2,float(val1) + float(val2)))"
   ]
  },
  {
   "cell_type": "code",
   "execution_count": 10,
   "metadata": {},
   "outputs": [
    {
     "name": "stdout",
     "output_type": "stream",
     "text": [
      "Enter year2017\n",
      "Enter makeRoyal Enfield\n",
      "Enter modelClassic\n",
      "Enter colorRed\n",
      "2017 Red Royal Enfield Classic\n"
     ]
    }
   ],
   "source": [
    "year = input(\"Enter year\")\n",
    "make = input(\"Enter make\")\n",
    "model = input(\"Enter model\")\n",
    "color = input(\"Enter color\")\n",
    "print(\"{} {} {} {}\".format(year,color,make,model))"
   ]
  },
  {
   "cell_type": "markdown",
   "metadata": {},
   "source": [
    "## Conditional Statements"
   ]
  },
  {
   "cell_type": "code",
   "execution_count": 11,
   "metadata": {},
   "outputs": [
    {
     "name": "stdout",
     "output_type": "stream",
     "text": [
      "x is less than y\n"
     ]
    }
   ],
   "source": [
    "#using if statement to only run the code when the condition is met\n",
    "x,y = 5,20\n",
    "if x < y :\n",
    "    print(\"x is less than y\")"
   ]
  },
  {
   "cell_type": "code",
   "execution_count": 12,
   "metadata": {},
   "outputs": [
    {
     "name": "stdout",
     "output_type": "stream",
     "text": [
      "What is 5+5 ?10\n",
      "Correct ans\n"
     ]
    }
   ],
   "source": [
    "#cheking user input\n",
    "ans=input(\"What is 5+5 ?\")\n",
    "if int(ans) == 10 :\n",
    "    print(\"Correct ans\")"
   ]
  },
  {
   "cell_type": "code",
   "execution_count": 13,
   "metadata": {},
   "outputs": [
    {
     "name": "stdout",
     "output_type": "stream",
     "text": [
      "Both statements are true\n"
     ]
    }
   ],
   "source": [
    "#using and in if\n",
    "x,y,z = 5,10,5\n",
    "if x < y and x == z :\n",
    "    print(\"Both statements are true\")"
   ]
  },
  {
   "cell_type": "code",
   "execution_count": 14,
   "metadata": {},
   "outputs": [
    {
     "name": "stdout",
     "output_type": "stream",
     "text": [
      "One or both statements are true\n"
     ]
    }
   ],
   "source": [
    "#using or in if\n",
    "x,y,z = 5,10,5\n",
    "if x < y or x != z :\n",
    "    print(\"One or both statements are true\")"
   ]
  },
  {
   "cell_type": "code",
   "execution_count": 15,
   "metadata": {},
   "outputs": [
    {
     "name": "stdout",
     "output_type": "stream",
     "text": [
      "Value is False\n"
     ]
    }
   ],
   "source": [
    "#using not in if\n",
    "false = False\n",
    "if not false :\n",
    "    print(\"Value is False\")\n",
    "    "
   ]
  },
  {
   "cell_type": "markdown",
   "metadata": {},
   "source": [
    "## Membership operators"
   ]
  },
  {
   "cell_type": "code",
   "execution_count": null,
   "metadata": {},
   "outputs": [],
   "source": [
    "#using in with if\n",
    "word = \"Baseball\"\n",
    "if \"b\" in word :\n",
    "    print(\"{} contains b\".format(word))"
   ]
  },
  {
   "cell_type": "code",
   "execution_count": null,
   "metadata": {},
   "outputs": [],
   "source": [
    "#using not in with if\n",
    "word = \"Baseball\"\n",
    "if \"x\" not in word:\n",
    "    print(\"{} does not contain x\".format(word))"
   ]
  },
  {
   "cell_type": "code",
   "execution_count": null,
   "metadata": {},
   "outputs": [],
   "source": [
    "ans = input(\"Enter input\")\n",
    "if \"es\" in ans:\n",
    "    print(\"Input contains es\")"
   ]
  },
  {
   "cell_type": "code",
   "execution_count": null,
   "metadata": {},
   "outputs": [],
   "source": [
    "ans = input(\"Enter input\")\n",
    "if ans[len(ans) - 3::1] == \"ing\":\n",
    "    print(\"Input ends with ing\")"
   ]
  },
  {
   "cell_type": "code",
   "execution_count": null,
   "metadata": {},
   "outputs": [],
   "source": [
    "val1 = input(\"Enter value 1\")\n",
    "val2 = input(\"Enter value 2\")\n",
    "if val1.lower() == val2.lower():\n",
    "    print(\"Values are same\")"
   ]
  },
  {
   "cell_type": "code",
   "execution_count": null,
   "metadata": {},
   "outputs": [],
   "source": [
    "import math\n",
    "no = input(\"Enter a no:\")\n",
    "try:\n",
    "    if int(no) < 10 :\n",
    "        print(\"Square of {} is {}\".format(no,pow(int(no),2)))\n",
    "except:\n",
    "    print(\"Invalid input\")"
   ]
  },
  {
   "cell_type": "markdown",
   "metadata": {},
   "source": [
    "## elif statement"
   ]
  },
  {
   "cell_type": "code",
   "execution_count": null,
   "metadata": {},
   "outputs": [],
   "source": [
    "#using elif statement\n",
    "x,y=5,10\n",
    "if x < y :\n",
    "    print(\"x is less than y\")\n",
    "elif x > y:\n",
    "    print(\"x is greater than y\")"
   ]
  },
  {
   "cell_type": "code",
   "execution_count": null,
   "metadata": {},
   "outputs": [],
   "source": [
    "#multiple elif statements\n",
    "x,y=5,10\n",
    "if x < y :\n",
    "    print(\"x is less than y\")\n",
    "elif x > y :\n",
    "    print(\"x is greater than y\")\n",
    "elif (x + 5) == 10:\n",
    "    print(\"x equals y\")"
   ]
  },
  {
   "cell_type": "code",
   "execution_count": null,
   "metadata": {},
   "outputs": [],
   "source": [
    "#multiple block levels\n",
    "x,y,z=5,10,5\n",
    "if x > y :\n",
    "    print(\"x > y\")\n",
    "elif x <= y:\n",
    "    if x == z:\n",
    "        print(\"x == z\")\n",
    "    elif x != z :\n",
    "        print (\"x != z\")\n",
    "        "
   ]
  },
  {
   "cell_type": "code",
   "execution_count": null,
   "metadata": {},
   "outputs": [],
   "source": [
    "#multiple if's vs elif\n",
    "x,y,z=5,10,5\n",
    "if x < y:\n",
    "    print(\"x < y\")\n",
    "if x == z:\n",
    "    print(\"x == z\")\n",
    "# elif    \n",
    "if x < y :\n",
    "    print(\"x < y\")\n",
    "elif x == z:\n",
    "    print(\"x == z\")"
   ]
  },
  {
   "cell_type": "code",
   "execution_count": null,
   "metadata": {},
   "outputs": [],
   "source": [
    "no = int(input(\"Enter a no:\"))\n",
    "if no < 100 :\n",
    "    print(\"no < 100\")\n",
    "elif no > 100 :\n",
    "    print(\"no > 100\")\n",
    "else :\n",
    "    print(\"no = 100\")"
   ]
  },
  {
   "cell_type": "code",
   "execution_count": null,
   "metadata": {},
   "outputs": [],
   "source": [
    "#using else\n",
    "name=\"John\"\n",
    "if name == \"Jacob\":\n",
    "    print(\"Hello Jacob\")\n",
    "else :\n",
    "    print(\"Hello {}\".format(name))"
   ]
  },
  {
   "cell_type": "code",
   "execution_count": null,
   "metadata": {},
   "outputs": [],
   "source": [
    "name=\"John\"\n",
    "if name[0] == \"A\" :\n",
    "    print(\"Name starts with A\")\n",
    "elif name[0] == \"B\":\n",
    "    print(\"Name starts with B\")\n",
    "elif name[0] == \"J\":\n",
    "    print(\"Name starts with J\")\n",
    "else:\n",
    "    print(\"Name starts with {}\".format(name[0]))"
   ]
  },
  {
   "cell_type": "markdown",
   "metadata": {},
   "source": [
    "## Excercise"
   ]
  },
  {
   "cell_type": "code",
   "execution_count": null,
   "metadata": {},
   "outputs": [],
   "source": [
    "#ask user for operation\n",
    "operation=input(\"Would you like add/subtract/multiply/divide ?\").lower()\n",
    "print(\"You chose {}.\".format(operation))"
   ]
  },
  {
   "cell_type": "code",
   "execution_count": null,
   "metadata": {},
   "outputs": [],
   "source": []
  }
 ],
 "metadata": {
  "kernelspec": {
   "display_name": "Python 3",
   "language": "python",
   "name": "python3"
  },
  "language_info": {
   "codemirror_mode": {
    "name": "ipython",
    "version": 3
   },
   "file_extension": ".py",
   "mimetype": "text/x-python",
   "name": "python",
   "nbconvert_exporter": "python",
   "pygments_lexer": "ipython3",
   "version": "3.7.4"
  }
 },
 "nbformat": 4,
 "nbformat_minor": 2
}
