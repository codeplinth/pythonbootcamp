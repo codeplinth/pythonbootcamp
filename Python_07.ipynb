{
 "cells": [
  {
   "cell_type": "markdown",
   "metadata": {},
   "source": [
    "## Creating and instantiating a Class"
   ]
  },
  {
   "cell_type": "code",
   "execution_count": 1,
   "metadata": {},
   "outputs": [
    {
     "name": "stdout",
     "output_type": "stream",
     "text": [
      "<__main__.Car object at 0x0000017D884FD9C8>\n"
     ]
    }
   ],
   "source": [
    "#creating your first class\n",
    "class Car():                #parentheses are optional\n",
    "    pass\n",
    "ford = Car()                #creates an instance of Car class & stores in a variable ford\n",
    "print(ford)"
   ]
  },
  {
   "cell_type": "code",
   "execution_count": 2,
   "metadata": {},
   "outputs": [
    {
     "name": "stdout",
     "output_type": "stream",
     "text": [
      "-9223371934437933200\n",
      "-9223371934437933196\n"
     ]
    }
   ],
   "source": [
    "#creating multiple objects from the same class\n",
    "class Car():\n",
    "    pass\n",
    "ford = Car()\n",
    "subaru=Car()          #creates another object from the Car class\n",
    "print(hash(ford))\n",
    "print(hash(subaru))   #hash outputs numerical representation of location in the memory for that variable"
   ]
  },
  {
   "cell_type": "code",
   "execution_count": null,
   "metadata": {},
   "outputs": [],
   "source": [
    "#Exercises\n",
    "class Animals():\n",
    "    pass\n",
    "lion=Animals()\n",
    "tiger=Animals()"
   ]
  },
  {
   "cell_type": "code",
   "execution_count": null,
   "metadata": {},
   "outputs": [],
   "source": [
    "class Bus:\n",
    "    pass\n",
    "school_bus=Bus()"
   ]
  },
  {
   "cell_type": "markdown",
   "metadata": {},
   "source": [
    "## Attributes"
   ]
  },
  {
   "cell_type": "code",
   "execution_count": 3,
   "metadata": {},
   "outputs": [
    {
     "name": "stdout",
     "output_type": "stream",
     "text": [
      "red\n"
     ]
    }
   ],
   "source": [
    "#how to define a class attribute\n",
    "class Car():\n",
    "    sound=\"beep\"                    #all car objects will have this sound attribute and its value\n",
    "    color=\"red\"                     #all car objects will have this color attribute and its value\n",
    "ford = Car()\n",
    "print(ford.color)                   #dot syntax"
   ]
  },
  {
   "cell_type": "code",
   "execution_count": 4,
   "metadata": {},
   "outputs": [
    {
     "name": "stdout",
     "output_type": "stream",
     "text": [
      "beep\n",
      "honk\n",
      "beep\n"
     ]
    }
   ],
   "source": [
    "#changing the value of an attribute\n",
    "class Car():\n",
    "    sound=\"beep\"\n",
    "    color=\"red\"\n",
    "ford=Car()\n",
    "subaru=Car()\n",
    "print(ford.sound)\n",
    "ford.sound=\"honk\"                   #from now on ford sound is honk,this does not affect other instances\n",
    "print(ford.sound)\n",
    "print(subaru.sound)\n"
   ]
  },
  {
   "cell_type": "markdown",
   "metadata": {},
   "source": [
    "## Using the __init__() method"
   ]
  },
  {
   "cell_type": "code",
   "execution_count": 5,
   "metadata": {},
   "outputs": [
    {
     "name": "stdout",
     "output_type": "stream",
     "text": [
      "red\n"
     ]
    }
   ],
   "source": [
    "#using the init method to give instances personalized attributes upon creation\n",
    "class Car():\n",
    "    def __init__(self,c):\n",
    "        self.color=c               #sets the attribute color to value passed in\n",
    "ford = Car(\"red\")                  #instantiating Car class with color red\n",
    "print(ford.color)"
   ]
  },
  {
   "cell_type": "code",
   "execution_count": 6,
   "metadata": {},
   "outputs": [
    {
     "name": "stdout",
     "output_type": "stream",
     "text": [
      "red 2016\n",
      "blue 2018\n"
     ]
    }
   ],
   "source": [
    "#defining different values for multiple instances\n",
    "class Car():\n",
    "    def __init__(self,c,y):\n",
    "        self.color=c\n",
    "        self.year=y\n",
    "ford=Car(\"red\",2016)\n",
    "subaru=Car(\"blue\",2018)\n",
    "print(ford.color,ford.year)\n",
    "print(subaru.color,subaru.year)"
   ]
  },
  {
   "cell_type": "markdown",
   "metadata": {},
   "source": [
    "## Global attributes vs Instance attributes"
   ]
  },
  {
   "cell_type": "code",
   "execution_count": 7,
   "metadata": {},
   "outputs": [
    {
     "name": "stdout",
     "output_type": "stream",
     "text": [
      "beep\n",
      "beep red\n"
     ]
    }
   ],
   "source": [
    "#using and accessing global attributes , instance attributes\n",
    "class Car():\n",
    "    sound=\"beep\"                    #global attribute,accessible throughout the class\n",
    "    def __init__(self,c):\n",
    "        self.color=c                #instance specific attribute,not accessible through the class itself\n",
    "print(Car.sound)\n",
    "#print(Car.color)                   #wont work as color is available only to the instances of the Car class not the class itself\n",
    "ford=Car(\"red\")\n",
    "print(ford.sound,ford.color)        #color is available"
   ]
  },
  {
   "cell_type": "code",
   "execution_count": 8,
   "metadata": {},
   "outputs": [
    {
     "name": "stdout",
     "output_type": "stream",
     "text": [
      "Canine Sammi Husky\n",
      "Canine Casey Chocolate Lab\n"
     ]
    }
   ],
   "source": [
    "#Exercises\n",
    "class Dog():\n",
    "    species=\"Canine\"\n",
    "    def __init__(self,n,b):\n",
    "        self.name=n\n",
    "        self.breed=b\n",
    "dog1=Dog(\"Sammi\",\"Husky\")\n",
    "dog2=Dog(\"Casey\",\"Chocolate Lab\")\n",
    "print(dog1.species,dog1.name,dog1.breed)\n",
    "print(dog2.species,dog2.name,dog2.breed)"
   ]
  },
  {
   "cell_type": "code",
   "execution_count": 9,
   "metadata": {},
   "outputs": [
    {
     "name": "stdout",
     "output_type": "stream",
     "text": [
      "Enter your nameht\\\n",
      "ht\\\n"
     ]
    }
   ],
   "source": [
    "class Person():\n",
    "    def __init__(self,n):\n",
    "        self.name=n\n",
    "inp=input(\"Enter your name\")\n",
    "p=Person(inp)\n",
    "print(p.name)"
   ]
  },
  {
   "cell_type": "markdown",
   "metadata": {},
   "source": [
    "## Methods"
   ]
  },
  {
   "cell_type": "code",
   "execution_count": 11,
   "metadata": {},
   "outputs": [
    {
     "name": "stdout",
     "output_type": "stream",
     "text": [
      "Bark\n"
     ]
    }
   ],
   "source": [
    "#defining and calling our first class method\n",
    "class Dog():\n",
    "    def makeSound(self):                #use self parameter to access the method through instances\n",
    "        print(\"Bark\")\n",
    "sam=Dog()\n",
    "sam.makeSound()"
   ]
  },
  {
   "cell_type": "markdown",
   "metadata": {},
   "source": [
    "## Accessing Class attributes in methods"
   ]
  },
  {
   "cell_type": "code",
   "execution_count": 12,
   "metadata": {},
   "outputs": [
    {
     "name": "stdout",
     "output_type": "stream",
     "text": [
      "Bark\n"
     ]
    }
   ],
   "source": [
    "#using self keyword to access attributes within a method\n",
    "class Dog():\n",
    "    sound=\"Bark\"\n",
    "    def makeSound(self):\n",
    "        print(self.sound)              #self required to access attributes defined in the class\n",
    "sam=Dog()\n",
    "sam.makeSound()"
   ]
  },
  {
   "cell_type": "markdown",
   "metadata": {},
   "source": [
    "## Method Scope"
   ]
  },
  {
   "cell_type": "code",
   "execution_count": 13,
   "metadata": {},
   "outputs": [
    {
     "name": "stdout",
     "output_type": "stream",
     "text": [
      "I am a dog\n",
      "Bark\n"
     ]
    }
   ],
   "source": [
    "#understanding which methods are accessible via the class itself and class instances\n",
    "class Dog():\n",
    "    sound=\"Bark\"\n",
    "    def makeSound(self):\n",
    "        print(self.sound)\n",
    "    def printInfo():                 #static method\n",
    "        print(\"I am a dog\")\n",
    "Dog.printInfo()            #able to run because it does not include self parameter\n",
    "#Dog.makeSound()           #would produce error,self is in reference for instances only\n",
    "sam=Dog()\n",
    "sam.makeSound()            #able to access,self can reference instance of sam\n",
    "#sam.printInfo()           #would produce error,instances require self parameter to access methods"
   ]
  },
  {
   "cell_type": "markdown",
   "metadata": {},
   "source": [
    "## Passing arguments into methods"
   ]
  },
  {
   "cell_type": "code",
   "execution_count": 14,
   "metadata": {},
   "outputs": [
    {
     "name": "stdout",
     "output_type": "stream",
     "text": [
      "6\n"
     ]
    }
   ],
   "source": [
    "#writing methods that accept parameters\n",
    "class Dog():\n",
    "    def showAge(self,age):\n",
    "        print(age)             #does not need self,age is referencing the parameter not the attribute\n",
    "sam = Dog()\n",
    "sam.showAge(6)"
   ]
  },
  {
   "cell_type": "markdown",
   "metadata": {},
   "source": [
    "## Setters and Getters"
   ]
  },
  {
   "cell_type": "code",
   "execution_count": 15,
   "metadata": {},
   "outputs": [
    {
     "name": "stdout",
     "output_type": "stream",
     "text": [
      "Sammi\n"
     ]
    }
   ],
   "source": [
    "#using methods to set and return attribute values,proper programming practice\n",
    "class Dog():\n",
    "    name=\"\"\n",
    "    def setName(self,n):\n",
    "        self.name=n\n",
    "    def getName(self):\n",
    "        return self.name\n",
    "sam=Dog()\n",
    "sam.setName(\"Sammi\")\n",
    "print(sam.getName())"
   ]
  },
  {
   "cell_type": "markdown",
   "metadata": {},
   "source": [
    "## Incrementing attributes with methods"
   ]
  },
  {
   "cell_type": "code",
   "execution_count": 16,
   "metadata": {},
   "outputs": [
    {
     "name": "stdout",
     "output_type": "stream",
     "text": [
      "6\n"
     ]
    }
   ],
   "source": [
    "#incrementing/decrementing attributes with methods\n",
    "class Dog():\n",
    "    age=5\n",
    "    def happyBirthday(self):\n",
    "        self.age+=1\n",
    "sam=Dog()\n",
    "sam.happyBirthday()         #calls method to increment value by one\n",
    "print(sam.age)\n"
   ]
  },
  {
   "cell_type": "markdown",
   "metadata": {},
   "source": [
    "## Methods calling methods"
   ]
  },
  {
   "cell_type": "code",
   "execution_count": 17,
   "metadata": {},
   "outputs": [
    {
     "name": "stdout",
     "output_type": "stream",
     "text": [
      "Puppy!\n"
     ]
    }
   ],
   "source": [
    "#calling a class method from another method\n",
    "class Dog():\n",
    "    age=6\n",
    "    def getAge(self):\n",
    "        return self.age\n",
    "    def printInfo(self):\n",
    "        if self.getAge() < 10 :          #need self to call other methods for the instance\n",
    "            print(\"Puppy!\")\n",
    "sam = Dog()\n",
    "sam.printInfo()"
   ]
  },
  {
   "cell_type": "markdown",
   "metadata": {},
   "source": [
    "## Magic methods"
   ]
  },
  {
   "cell_type": "code",
   "execution_count": 18,
   "metadata": {},
   "outputs": [
    {
     "name": "stdout",
     "output_type": "stream",
     "text": [
      "This is a dog class\n"
     ]
    }
   ],
   "source": [
    "#using magic methods\n",
    "class Dog():\n",
    "    def __str__(self):\n",
    "        return \"This is a dog class\"\n",
    "sam = Dog()\n",
    "print(sam)"
   ]
  },
  {
   "cell_type": "code",
   "execution_count": null,
   "metadata": {},
   "outputs": [],
   "source": [
    "#Exercises\n",
    "class Animals():\n",
    "    species=\"\"\n",
    "    def setSpecies(self,s):\n",
    "        self.species=s\n",
    "    def getSpecies(self):\n",
    "        return self.species\n",
    "lion=Animals()\n",
    "lion.setSpecies(\"feline\")\n",
    "print(lion.getSpecies())\n"
   ]
  },
  {
   "cell_type": "code",
   "execution_count": 19,
   "metadata": {},
   "outputs": [
    {
     "name": "stdout",
     "output_type": "stream",
     "text": [
      "Enter age23\n",
      "You are 23 years old\n"
     ]
    }
   ],
   "source": [
    "class Person():\n",
    "    def __init__(self,n):\n",
    "        self.name=n\n",
    "        self.age=0\n",
    "    def setAge(self):\n",
    "        try:\n",
    "            a=int(input(\"Enter age\"))\n",
    "            self.age=a\n",
    "        except:\n",
    "            print(\"Invalid age\")\n",
    "    def getAge(self):\n",
    "        return self.age\n",
    "me=Person(\"Harsh\")\n",
    "me.setAge()\n",
    "print(\"You are {} years old\".format(me.getAge()))   "
   ]
  },
  {
   "cell_type": "markdown",
   "metadata": {},
   "source": [
    "## Inheritance"
   ]
  },
  {
   "cell_type": "code",
   "execution_count": null,
   "metadata": {},
   "outputs": [],
   "source": [
    "#inheriting a class and accessing the inherited method\n",
    "class Animal():\n",
    "    def makeSound(self):\n",
    "        print(\"Roar\")\n",
    "class Dog(Animal):            #inheriting Animal class\n",
    "    species=\"Dog\"\n",
    "sam=Dog()\n",
    "sam.makeSound()               #accessible through inheritance\n",
    "lion=Animal()\n",
    "#lion.species                 #not accessible"
   ]
  },
  {
   "cell_type": "markdown",
   "metadata": {},
   "source": [
    "## Using the super() method"
   ]
  },
  {
   "cell_type": "code",
   "execution_count": null,
   "metadata": {},
   "outputs": [],
   "source": [
    "class Animal():\n",
    "    def __init__(self,s):\n",
    "        self.species=s\n",
    "class Dog(Animal):\n",
    "    def __init__(self,s,n):\n",
    "        self.name=n\n",
    "        super().__init__(s)     #using super to declare the species attribute\n",
    "sam=Dog(\"Canine\",\"Sammi\")\n",
    "print(sam.species)"
   ]
  },
  {
   "cell_type": "markdown",
   "metadata": {},
   "source": [
    "## Method Overriding"
   ]
  },
  {
   "cell_type": "code",
   "execution_count": null,
   "metadata": {},
   "outputs": [],
   "source": [
    "#overriding methods defined in the superclass\n",
    "class Animal():\n",
    "    def makeSound(self):\n",
    "        print(\"Roar\")\n",
    "class Dog(Animal):\n",
    "    def makeSound(self):\n",
    "        print(\"Bark\")\n",
    "sam,lion=Dog(),Animal()        #declaring multiple variables in a single line\n",
    "sam.makeSound()                #method overriding will call the makeSound method in Dog\n",
    "lion.makeSound()"
   ]
  },
  {
   "cell_type": "markdown",
   "metadata": {},
   "source": [
    "## Inheriting multiple classes"
   ]
  },
  {
   "cell_type": "code",
   "execution_count": null,
   "metadata": {},
   "outputs": [],
   "source": [
    "# how to inherit multiple classes\n",
    "class Physics():\n",
    "    gravity=9.8\n",
    "class Automobile():\n",
    "    def __init__(self,make,model,year):\n",
    "        self.make,self.model,self.year=make,model,year\n",
    "class Ford(Physics,Automobile):\n",
    "    def __init__(self,model,year):\n",
    "        Automobile.__init__(self,\"Ford\",model,year)\n",
    "truck=Ford(\"F-150\",2018)\n",
    "print(truck.gravity,truck.make)"
   ]
  },
  {
   "cell_type": "code",
   "execution_count": null,
   "metadata": {},
   "outputs": [],
   "source": []
  }
 ],
 "metadata": {
  "kernelspec": {
   "display_name": "Python 3",
   "language": "python",
   "name": "python3"
  },
  "language_info": {
   "codemirror_mode": {
    "name": "ipython",
    "version": 3
   },
   "file_extension": ".py",
   "mimetype": "text/x-python",
   "name": "python",
   "nbconvert_exporter": "python",
   "pygments_lexer": "ipython3",
   "version": "3.7.4"
  }
 },
 "nbformat": 4,
 "nbformat_minor": 2
}
