{
  "nbformat": 4,
  "nbformat_minor": 0,
  "metadata": {
    "kernelspec": {
      "display_name": "Python 3",
      "language": "python",
      "name": "python3"
    },
    "language_info": {
      "codemirror_mode": {
        "name": "ipython",
        "version": 3
      },
      "file_extension": ".py",
      "mimetype": "text/x-python",
      "name": "python",
      "nbconvert_exporter": "python",
      "pygments_lexer": "ipython3",
      "version": "3.7.4"
    },
    "colab": {
      "name": "Python_02.ipynb",
      "provenance": [],
      "include_colab_link": true
    }
  },
  "cells": [
    {
      "cell_type": "markdown",
      "metadata": {
        "id": "view-in-github",
        "colab_type": "text"
      },
      "source": [
        "<a href=\"https://colab.research.google.com/github/codeplinth/pythonbootcamp/blob/master/Python_02_Comments_Datatypes_Strings.ipynb\" target=\"_parent\"><img src=\"https://colab.research.google.com/assets/colab-badge.svg\" alt=\"Open In Colab\"/></a>"
      ]
    },
    {
      "cell_type": "markdown",
      "metadata": {
        "id": "bo40ONHlExUH"
      },
      "source": [
        "# Comments & Basics Datatypes"
      ]
    },
    {
      "cell_type": "markdown",
      "metadata": {
        "id": "v7tYKYaLExUo"
      },
      "source": [
        "# Comments - Single , Multiline"
      ]
    },
    {
      "cell_type": "code",
      "metadata": {
        "id": "pf_vTcMHExUr",
        "outputId": "987ecd9c-2e6b-455d-d992-32f065c7f14a",
        "colab": {
          "base_uri": "https://localhost:8080/"
        }
      },
      "source": [
        "#this is a single line comment\n",
        "\"\"\"\n",
        "This is a multi line comment\n",
        "\"\"\"\n",
        "print('Hello') #this is also a comment"
      ],
      "execution_count": 3,
      "outputs": [
        {
          "output_type": "stream",
          "text": [
            "Hello\n"
          ],
          "name": "stdout"
        }
      ]
    },
    {
      "cell_type": "markdown",
      "metadata": {
        "id": "ITPW9ThCExUx"
      },
      "source": [
        "## Datatypes - int , float , bool ,str"
      ]
    },
    {
      "cell_type": "code",
      "metadata": {
        "id": "bGn6nbKNExUy",
        "outputId": "a04884ba-c66a-4905-bc29-684b47a6f237",
        "colab": {
          "base_uri": "https://localhost:8080/"
        }
      },
      "source": [
        "#the following are all integers\n",
        "print(2)\n",
        "print(10)\n",
        "type(10)"
      ],
      "execution_count": 4,
      "outputs": [
        {
          "output_type": "stream",
          "text": [
            "2\n",
            "10\n"
          ],
          "name": "stdout"
        },
        {
          "output_type": "execute_result",
          "data": {
            "text/plain": [
              "int"
            ]
          },
          "metadata": {
            "tags": []
          },
          "execution_count": 4
        }
      ]
    },
    {
      "cell_type": "code",
      "metadata": {
        "id": "fCf5tgtmExU1",
        "outputId": "72e699d7-e685-4c69-8226-1e9a28e02149",
        "colab": {
          "base_uri": "https://localhost:8080/"
        }
      },
      "source": [
        "#the following are all floats\n",
        "print(45.23)\n",
        "print(8.0)\n",
        "type(8.0)"
      ],
      "execution_count": 5,
      "outputs": [
        {
          "output_type": "stream",
          "text": [
            "45.23\n",
            "8.0\n"
          ],
          "name": "stdout"
        },
        {
          "output_type": "execute_result",
          "data": {
            "text/plain": [
              "float"
            ]
          },
          "metadata": {
            "tags": []
          },
          "execution_count": 5
        }
      ]
    },
    {
      "cell_type": "code",
      "metadata": {
        "id": "keR-_SpnExU3",
        "outputId": "d0620945-b872-4052-a8e8-61527a13a4f2",
        "colab": {
          "base_uri": "https://localhost:8080/"
        }
      },
      "source": [
        "#the following are booleans\n",
        "print(True)\n",
        "print(False)\n",
        "type(True)"
      ],
      "execution_count": 6,
      "outputs": [
        {
          "output_type": "stream",
          "text": [
            "True\n",
            "False\n"
          ],
          "name": "stdout"
        },
        {
          "output_type": "execute_result",
          "data": {
            "text/plain": [
              "bool"
            ]
          },
          "metadata": {
            "tags": []
          },
          "execution_count": 6
        }
      ]
    },
    {
      "cell_type": "code",
      "metadata": {
        "id": "YjZWkbVsExU6",
        "outputId": "8edb94ac-e15f-4ebe-996f-62aaafcc2a7c",
        "colab": {
          "base_uri": "https://localhost:8080/"
        }
      },
      "source": [
        "#the following are strings\n",
        "print(\" \")\n",
        "print(\"There's a snake in my boot!\")\n",
        "print('True')\n",
        "type(\"Hello\")"
      ],
      "execution_count": 7,
      "outputs": [
        {
          "output_type": "stream",
          "text": [
            " \n",
            "There's a snake in my boot!\n",
            "True\n"
          ],
          "name": "stdout"
        },
        {
          "output_type": "execute_result",
          "data": {
            "text/plain": [
              "str"
            ]
          },
          "metadata": {
            "tags": []
          },
          "execution_count": 7
        }
      ]
    },
    {
      "cell_type": "code",
      "metadata": {
        "id": "4D0WRX3KExU8",
        "outputId": "9d1c8cd1-3378-46dd-a9f1-ceaccebff6be",
        "colab": {
          "base_uri": "https://localhost:8080/"
        }
      },
      "source": [
        "print(\"Harsh\")\n",
        "type(2)"
      ],
      "execution_count": 8,
      "outputs": [
        {
          "output_type": "stream",
          "text": [
            "Harsh\n"
          ],
          "name": "stdout"
        },
        {
          "output_type": "execute_result",
          "data": {
            "text/plain": [
              "int"
            ]
          },
          "metadata": {
            "tags": []
          },
          "execution_count": 8
        }
      ]
    },
    {
      "cell_type": "markdown",
      "metadata": {
        "id": "CPhWm4W2ExU9"
      },
      "source": [
        "## Variables"
      ]
    },
    {
      "cell_type": "code",
      "metadata": {
        "id": "kXYQS1qzExU-",
        "outputId": "e7457c9e-6a54-4f6e-b473-1fa55589a856",
        "colab": {
          "base_uri": "https://localhost:8080/"
        }
      },
      "source": [
        "num1 = 5 #storing an integer into a variable\n",
        "num2 = 8.4 #storing a float into a variable\n",
        "print(num1 , num2) #print multiple items using comma"
      ],
      "execution_count": 9,
      "outputs": [
        {
          "output_type": "stream",
          "text": [
            "5 8.4\n"
          ],
          "name": "stdout"
        }
      ]
    },
    {
      "cell_type": "code",
      "metadata": {
        "id": "ZVRJuP5iExVA",
        "outputId": "b0fb38a3-917d-4b8d-8347-249356427744",
        "colab": {
          "base_uri": "https://localhost:8080/"
        }
      },
      "source": [
        "#storing a boolean into a variable\n",
        "switch = True\n",
        "print(switch)"
      ],
      "execution_count": 10,
      "outputs": [
        {
          "output_type": "stream",
          "text": [
            "True\n"
          ],
          "name": "stdout"
        }
      ]
    },
    {
      "cell_type": "code",
      "metadata": {
        "id": "kRFxlAC9GQzP",
        "outputId": "6876b673-f266-453b-ebfb-75625fa25d27",
        "colab": {
          "base_uri": "https://localhost:8080/"
        }
      },
      "source": [
        "#storing strings into a variable\r\n",
        "name = 'John Smith'\r\n",
        "fav_number = '9'\r\n",
        "print(name,fav_number)"
      ],
      "execution_count": 11,
      "outputs": [
        {
          "output_type": "stream",
          "text": [
            "John Smith 9\n"
          ],
          "name": "stdout"
        }
      ]
    },
    {
      "cell_type": "code",
      "metadata": {
        "id": "nKQ1R8y8ExVC",
        "outputId": "20f27fbf-416a-4c79-bc90-35779ed534bd",
        "colab": {
          "base_uri": "https://localhost:8080/"
        }
      },
      "source": [
        "#using two variables to create another variable\n",
        "result = num1 + num2\n",
        "print(result)"
      ],
      "execution_count": 12,
      "outputs": [
        {
          "output_type": "stream",
          "text": [
            "13.4\n"
          ],
          "name": "stdout"
        }
      ]
    },
    {
      "cell_type": "code",
      "metadata": {
        "id": "I6Krf264ExVE",
        "outputId": "e66b0fb4-bb18-40ce-b544-a296b3461cdc",
        "colab": {
          "base_uri": "https://localhost:8080/"
        }
      },
      "source": [
        "#adding,deleting,multiplying, dividing from a variable\n",
        "result += 1\n",
        "print(result)\n",
        "result *= num1\n",
        "print(result)"
      ],
      "execution_count": 13,
      "outputs": [
        {
          "output_type": "stream",
          "text": [
            "14.4\n",
            "72.0\n"
          ],
          "name": "stdout"
        }
      ]
    },
    {
      "cell_type": "code",
      "metadata": {
        "id": "Kd-CoyRkExVF",
        "outputId": "f1b376f2-d783-463b-eca5-2e0dbb34742c",
        "colab": {
          "base_uri": "https://localhost:8080/"
        }
      },
      "source": [
        "#defining a variable and overwriting its value\n",
        "name = 'John'\n",
        "print(name)\n",
        "name = 'Sam'\n",
        "print(name)"
      ],
      "execution_count": 14,
      "outputs": [
        {
          "output_type": "stream",
          "text": [
            "John\n",
            "Sam\n"
          ],
          "name": "stdout"
        }
      ]
    },
    {
      "cell_type": "code",
      "metadata": {
        "id": "ClSJak0BExVG",
        "outputId": "d9d04313-d1c1-488c-a723-b4de33020bc8",
        "colab": {
          "base_uri": "https://localhost:8080/"
        }
      },
      "source": [
        "x = 3\n",
        "y = 10\n",
        "result = x * y\n",
        "print(result)"
      ],
      "execution_count": 15,
      "outputs": [
        {
          "output_type": "stream",
          "text": [
            "30\n"
          ],
          "name": "stdout"
        }
      ]
    },
    {
      "cell_type": "code",
      "metadata": {
        "id": "jw7IPBp2ExVI",
        "outputId": "738b06cf-ad97-4ae5-b8af-0676946f4726",
        "colab": {
          "base_uri": "https://localhost:8080/"
        }
      },
      "source": [
        "area = 245.54 * 13.66\n",
        "print(area)"
      ],
      "execution_count": 16,
      "outputs": [
        {
          "output_type": "stream",
          "text": [
            "3354.0764\n"
          ],
          "name": "stdout"
        }
      ]
    },
    {
      "cell_type": "markdown",
      "metadata": {
        "id": "iGLA2x8JExVJ"
      },
      "source": [
        "## Working with strings"
      ]
    },
    {
      "cell_type": "code",
      "metadata": {
        "id": "qOY3_taiHXCR",
        "outputId": "1ffb90e8-de5a-4849-fd81-1ead36c8697f",
        "colab": {
          "base_uri": "https://localhost:8080/"
        }
      },
      "source": [
        "#using addition operator without variables\r\n",
        "name = 'John' + ' ' + 'Smith'\r\n",
        "print(name)"
      ],
      "execution_count": 18,
      "outputs": [
        {
          "output_type": "stream",
          "text": [
            "John Smith\n"
          ],
          "name": "stdout"
        }
      ]
    },
    {
      "cell_type": "code",
      "metadata": {
        "id": "JOhioOFeHhS4",
        "outputId": "5bd95b9d-cb86-483d-d58e-2801202965ce",
        "colab": {
          "base_uri": "https://localhost:8080/"
        }
      },
      "source": [
        "#using addition operator with variables\r\n",
        "first_name = 'John'\r\n",
        "last_name = 'Smith'\r\n",
        "full_name = first_name + ' ' + last_name\r\n",
        "print(full_name)"
      ],
      "execution_count": 19,
      "outputs": [
        {
          "output_type": "stream",
          "text": [
            "John Smith\n"
          ],
          "name": "stdout"
        }
      ]
    },
    {
      "cell_type": "code",
      "metadata": {
        "id": "HQSb9EePHg_B",
        "outputId": "2e12a0ee-0ca4-4329-b612-329d7097405e",
        "colab": {
          "base_uri": "https://localhost:8080/"
        }
      },
      "source": [
        "#using f-Strings\r\n",
        "name = 'John'\r\n",
        "age = 28\r\n",
        "print(f'Hello {name}')\r\n",
        "print(f'Hello {name} , you are {age} years old')"
      ],
      "execution_count": 20,
      "outputs": [
        {
          "output_type": "stream",
          "text": [
            "Hello John\n",
            "Hello John , you are 28 years old\n"
          ],
          "name": "stdout"
        }
      ]
    },
    {
      "cell_type": "code",
      "metadata": {
        "id": "2R1b8F4VHuAm",
        "outputId": "5daad5ca-ff4c-42be-acbc-9a4823b66ca2",
        "colab": {
          "base_uri": "https://localhost:8080/"
        }
      },
      "source": [
        "#using indexes to print each elements\r\n",
        "word = 'Hello'\r\n",
        "print(word[0])\r\n",
        "print(word[1])\r\n",
        "print(word[-1])"
      ],
      "execution_count": 25,
      "outputs": [
        {
          "output_type": "stream",
          "text": [
            "H\n",
            "e\n",
            "o\n"
          ],
          "name": "stdout"
        }
      ]
    },
    {
      "cell_type": "code",
      "metadata": {
        "id": "uKda_roUHtv6",
        "outputId": "3297a9ad-6b63-44a6-fc0f-da2fc620d4b7",
        "colab": {
          "base_uri": "https://localhost:8080/"
        }
      },
      "source": [
        "#string slicing start:stop:step\r\n",
        "print(word[0:2])\r\n",
        "print(word[0:5:2])\r\n",
        "print(word[-1::-1])#reverse the string"
      ],
      "execution_count": 26,
      "outputs": [
        {
          "output_type": "stream",
          "text": [
            "He\n",
            "Hlo\n",
            "olleH\n"
          ],
          "name": "stdout"
        }
      ]
    },
    {
      "cell_type": "code",
      "metadata": {
        "id": "0bjME65aHttM",
        "outputId": "8bb25544-8623-4703-9f5a-70f2899d48fb",
        "colab": {
          "base_uri": "https://localhost:8080/"
        }
      },
      "source": [
        "print(25,4.5,False,'John')\r\n",
        "name = 'Angel'\r\n",
        "sports = 'Gaming'\r\n",
        "lang = 'Python'\r\n",
        "print(f'{name}\\'s favorite sports is {sports}')\r\n",
        "print(f'{name} is working on {lang} programming')"
      ],
      "execution_count": 27,
      "outputs": [
        {
          "output_type": "stream",
          "text": [
            "25 4.5 False John\n",
            "Angel's favorite sports is Gaming\n",
            "Angel is working on Python programming\n"
          ],
          "name": "stdout"
        }
      ]
    },
    {
      "cell_type": "markdown",
      "metadata": {
        "id": "0WMxYOTBExVU"
      },
      "source": [
        "## Manipulating Strings"
      ]
    },
    {
      "cell_type": "code",
      "metadata": {
        "id": "ao7kqghLXuJM",
        "outputId": "1517368b-11b6-4af8-f7db-ddf081751a4a",
        "colab": {
          "base_uri": "https://localhost:8080/"
        }
      },
      "source": [
        "#using title method to capitalize first letters of a string\r\n",
        "name = 'john smith'\r\n",
        "print(name.title())\r\n",
        "print(name.upper())"
      ],
      "execution_count": 28,
      "outputs": [
        {
          "output_type": "stream",
          "text": [
            "John Smith\n",
            "JOHN SMITH\n"
          ],
          "name": "stdout"
        }
      ]
    },
    {
      "cell_type": "code",
      "metadata": {
        "id": "IYtnR839XuGP",
        "outputId": "e36f1e78-0540-41d0-dcfb-37140a990898",
        "colab": {
          "base_uri": "https://localhost:8080/"
        }
      },
      "source": [
        "#replacing exclamation with a dot\r\n",
        "hello = 'Hello There !'\r\n",
        "print(hello.replace('!','.'))"
      ],
      "execution_count": 29,
      "outputs": [
        {
          "output_type": "stream",
          "text": [
            "Hello There .\n"
          ],
          "name": "stdout"
        }
      ]
    },
    {
      "cell_type": "code",
      "metadata": {
        "id": "L36_6pThXtxo",
        "outputId": "a80d37ec-deb4-47bd-c78b-36f0d76d7af6",
        "colab": {
          "base_uri": "https://localhost:8080/"
        }
      },
      "source": [
        "#finding starting index of search term\r\n",
        "s = 'Look over that way'\r\n",
        "print(s.find('over'))"
      ],
      "execution_count": 30,
      "outputs": [
        {
          "output_type": "stream",
          "text": [
            "5\n"
          ],
          "name": "stdout"
        }
      ]
    },
    {
      "cell_type": "code",
      "metadata": {
        "id": "GuYZjqaiYzwE",
        "outputId": "cf4c2539-b13f-4385-e8c4-5f28a0738dec",
        "colab": {
          "base_uri": "https://localhost:8080/"
        }
      },
      "source": [
        "#removing white space with strip\r\n",
        "name = ' John '\r\n",
        "print(name.strip())\r\n",
        "print(name.rstrip())"
      ],
      "execution_count": 31,
      "outputs": [
        {
          "output_type": "stream",
          "text": [
            "John\n",
            " John\n"
          ],
          "name": "stdout"
        }
      ]
    },
    {
      "cell_type": "code",
      "metadata": {
        "id": "rUC8rQh6ZEqr",
        "outputId": "fbc32be2-efec-4549-dc88-dc520bc7513a",
        "colab": {
          "base_uri": "https://localhost:8080/"
        }
      },
      "source": [
        "#converting a string into a list of words\r\n",
        "s = 'These words are separated by spaces'\r\n",
        "print(s.split(' ')) "
      ],
      "execution_count": 32,
      "outputs": [
        {
          "output_type": "stream",
          "text": [
            "['These', 'words', 'are', 'separated', 'by', 'spaces']\n"
          ],
          "name": "stdout"
        }
      ]
    },
    {
      "cell_type": "code",
      "metadata": {
        "id": "9zL4x6dPExVa",
        "outputId": "ee7bd0ad-a72b-45d6-81c5-c7704e20f6e1",
        "colab": {
          "base_uri": "https://localhost:8080/"
        }
      },
      "source": [
        "print('uppercase'.upper())"
      ],
      "execution_count": 33,
      "outputs": [
        {
          "output_type": "stream",
          "text": [
            "UPPERCASE\n"
          ],
          "name": "stdout"
        }
      ]
    },
    {
      "cell_type": "code",
      "metadata": {
        "id": "AaLsEl87ExVb",
        "outputId": "e9bf05d0-5263-47d3-b152-9445a6175d30",
        "colab": {
          "base_uri": "https://localhost:8080/"
        }
      },
      "source": [
        "print('$$John'.lstrip('$'))"
      ],
      "execution_count": 34,
      "outputs": [
        {
          "output_type": "stream",
          "text": [
            "John\n"
          ],
          "name": "stdout"
        }
      ]
    },
    {
      "cell_type": "markdown",
      "metadata": {
        "id": "G18_i5RXExVc"
      },
      "source": [
        "## Project : Printing receipts"
      ]
    },
    {
      "cell_type": "code",
      "metadata": {
        "id": "0W6h26xlExVd"
      },
      "source": [
        "#create product and price of three products\n",
        "p1_name,p1_price = 'Books',49.95\n",
        "p2_name,p2_price = 'Computer',579.99\n",
        "p3_name,p3_price = 'Monitor',124.89"
      ],
      "execution_count": 35,
      "outputs": []
    },
    {
      "cell_type": "code",
      "metadata": {
        "id": "R2yYIesDExVd"
      },
      "source": [
        "#create company name ,address & city\n",
        "company_name = 'coding temple, inc.'\n",
        "company_address = '283 Franklin St.'\n",
        "company_city = 'Boston, MA'"
      ],
      "execution_count": 36,
      "outputs": []
    },
    {
      "cell_type": "code",
      "metadata": {
        "id": "DRpFKbQ6ExVe"
      },
      "source": [
        "#declare ending message\n",
        "message = 'Thanks for shopping with us today!'"
      ],
      "execution_count": 37,
      "outputs": []
    },
    {
      "cell_type": "code",
      "metadata": {
        "id": "8i9E2i-YExVf",
        "outputId": "96543be2-cb58-46b8-ad26-401bf378cb82",
        "colab": {
          "base_uri": "https://localhost:8080/"
        }
      },
      "source": [
        "#print top border\n",
        "print('*' * 50)\n",
        "#print company information\n",
        "print(f'\\t\\t{company_name.title()}')\n",
        "print(f'\\t\\t{company_address}')\n",
        "print(f'\\t\\t{company_city}')\n",
        "print('=' * 50)\n",
        "#print item information\n",
        "print(f'\\tProdut Name\\tProduct Price')\n",
        "print(f'\\t{p1_name}\\t\\t${p1_price}')\n",
        "print(f'\\t{p2_name}\\t${p2_price}')\n",
        "print(f'\\t{p3_name}\\t\\t${p3_price}')\n",
        "print('=' * 50)\n",
        "#print total\n",
        "print('\\t\\t\\tTotal')\n",
        "print(f'\\t\\t\\t${p1_price+p2_price+p3_price}')\n",
        "#print message\n",
        "print('=' * 50)\n",
        "print(f'\\t{message}')\n",
        "print('*' * 50)\n"
      ],
      "execution_count": 39,
      "outputs": [
        {
          "output_type": "stream",
          "text": [
            "**************************************************\n",
            "\t\tCoding Temple, Inc.\n",
            "\t\t283 Franklin St.\n",
            "\t\tBoston, MA\n",
            "==================================================\n",
            "\tProdut Name\tProduct Price\n",
            "\tBooks\t\t$49.95\n",
            "\tComputer\t$579.99\n",
            "\tMonitor\t\t$124.89\n",
            "==================================================\n",
            "\t\t\tTotal\n",
            "\t\t\t$754.83\n",
            "==================================================\n",
            "\tThanks for shopping with us today!\n",
            "**************************************************\n"
          ],
          "name": "stdout"
        }
      ]
    },
    {
      "cell_type": "code",
      "metadata": {
        "id": "6fH5qHEyExVh"
      },
      "source": [
        ""
      ],
      "execution_count": null,
      "outputs": []
    }
  ]
}